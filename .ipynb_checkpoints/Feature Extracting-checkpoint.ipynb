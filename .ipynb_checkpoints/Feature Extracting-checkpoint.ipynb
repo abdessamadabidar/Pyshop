{
 "cells": [
  {
   "cell_type": "raw",
   "source": [],
   "metadata": {
    "collapsed": false
   },
   "id": "c7ae48b757cae76b"
  }
 ],
 "metadata": {},
 "nbformat": 4,
 "nbformat_minor": 5
}
